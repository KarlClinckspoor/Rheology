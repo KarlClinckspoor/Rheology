{
 "cells": [
  {
   "cell_type": "markdown",
   "metadata": {},
   "source": [
    "# Testando vários modelos de ajuste de curvas oscilatórias"
   ]
  },
  {
   "cell_type": "code",
   "execution_count": 1,
   "metadata": {
    "collapsed": true
   },
   "outputs": [],
   "source": [
    "import numpy as np\n",
    "import matplotlib.pyplot as plt\n",
    "import pandas as pd"
   ]
  },
  {
   "cell_type": "markdown",
   "metadata": {},
   "source": [
    "## Declaração das funções de ajuste"
   ]
  },
  {
   "cell_type": "code",
   "execution_count": 2,
   "metadata": {
    "collapsed": true
   },
   "outputs": [],
   "source": [
    "def oldroydB_elast(w, Gn0, tau_r):\n",
    "    return Gn0 * w ** 2 * tau_r ** 2 / (1 + w ** 2 * tau_r ** 2)  \n",
    "\n",
    "def oldroydB_visc(w, Gn0, tau_r, eta_inf):\n",
    "    return Gn0 * w * tau_r / (1 + w ** 2 * tau_r ** 2) + eta_inf * w    # correto! Tese Calabrese\n",
    "\n",
    "###############################\n",
    "\n",
    "def jeffreys_elast(w, eta0, lambda1, lambda2):\n",
    "    return eta0 * (lambda1 - lambda2) * w ** 2 / (1 + lambda1 ** 2 * w ** 2)\n",
    "    \n",
    "    \n",
    "def jeffreys_visc(w, eta0, lambda1, lambda2):\n",
    "    return eta0 * (1 + lambda1 * lambda2 * w ** 2) * w / (1 + lambda1 ** 2 * w ** 2)\n",
    "\n",
    "###############################\n",
    "\n",
    "def jeffreys_elast2(w, G0, lambda0, lambdaj):\n",
    "    return ((G0 * lambda0 * (lambda0 - lambdaj) * w ** 2 \n",
    "           / (1 + lambda0 ** 2 * w ** 2)))\n",
    "    \n",
    "    \n",
    "def jeffreys_visc2(w, G0, lambda0, lambdaj):\n",
    "    return (G0 * lambda0 * (1 + lambda0 * lambdaj * w ** 2) \n",
    "                        * w / (1 + lambda0 ** 2 * w ** 2))\n",
    "    \n",
    "###############################\n",
    "\n",
    "def two_mode_elast(w, G01, G02, lambda1, lambda2):\n",
    "    return (( G01 * (lambda1 * w) ** 2 / (1 + (lambda1 * w) ** 2) ) \n",
    "         + ( G02 * (lambda2 * w) ** 2 / (1 + (lambda2 * w) ** 2) ))\n",
    "    \n",
    "def two_mode_visc(w, G01, G02, lambda1, lambda2):\n",
    "    return (( G01 * (lambda1 * w) / (1 + (lambda1 * w) ** 2) ) \n",
    "         + ( G02 * (lambda2 * w) / (1 + (lambda2 * w) ** 2) ))\n",
    "    \n",
    "###############################\n",
    "def maxwell_elast(w, G0, lambda1):\n",
    "    return G0 * (lambda1 * w) ** 2 / (1 + (lambda1 * w) ** 2)\n",
    "    \n",
    "def maxwell_visc(w, G0, lambda1):\n",
    "    return G0 * (lambda1 * w)      / (1 + (lambda1 * w) ** 2)"
   ]
  },
  {
   "cell_type": "markdown",
   "metadata": {},
   "source": [
    "## Inicialização dos parâmetros para visualização"
   ]
  },
  {
   "cell_type": "code",
   "execution_count": 3,
   "metadata": {
    "collapsed": true
   },
   "outputs": [],
   "source": [
    "w = np.logspace(-2, 1) # Frequência, omega\n",
    "\n",
    "# Módulos platô\n",
    "\n",
    "G0_o   = 10 # Oldroyd\n",
    "G0_j   = 10 # Jeffreys\n",
    "G01_tm = 10 # Two Mode\n",
    "G02_tm = 15 # Two Mode\n",
    "G0     = 10 # Maxwell\n",
    "\n",
    "# Tempos de relaxação\n",
    "\n",
    "tr_o    = 10 # Oldroyd\n",
    "tr1_j   = 50 # Jeffreys  tr1_j > tr2_j, sempre!\n",
    "tr2_j   = 1  # Jeffreys\n",
    "tr1_t   = 1  # Two Mode\n",
    "tr2_t   = 5  # Two Mode\n",
    "tr      = 10 # Maxwell\n",
    "\n",
    "# Outros\n",
    "\n",
    "eta_inf = 2 # Oldroyd\n"
   ]
  },
  {
   "cell_type": "markdown",
   "metadata": {},
   "source": [
    "## Criação dos valores de y dos modelos"
   ]
  },
  {
   "cell_type": "code",
   "execution_count": 4,
   "metadata": {
    "code_folding": [],
    "collapsed": true
   },
   "outputs": [],
   "source": [
    "# y1_oldroyd = oldroydB_elast(w, G0_o, tr_o)\n",
    "# y2_oldroyd = oldroydB_visc(w, G0_o, tr_o, eta_inf)\n",
    "# y1_maxwell = maxwell_elast(w, G0, tr)\n",
    "# y2_maxwell = maxwell_visc(w, G0, tr)\n",
    "# y1_jeffreys = jeffreys_elast2(w, G0_j, tr1_j, tr2_j)\n",
    "# y2_jeffreys = jeffreys_visc2(w, G0_j, tr1_j, tr2_j)\n",
    "# y1_twomode = two_mode_elast(w, G01_tm, G02_tm, tr1_t, tr2_t)\n",
    "# y2_twomode = two_mode_visc(w, G01_tm, G02_tm, tr1_t, tr2_t)"
   ]
  },
  {
   "cell_type": "code",
   "execution_count": 5,
   "metadata": {
    "collapsed": true
   },
   "outputs": [],
   "source": [
    "y1_oldroyd = oldroydB_elast(w, G0_o, tr_o)\n",
    "y2_oldroyd = oldroydB_visc(w, G0_o, tr_o, eta_inf)\n",
    "y1_maxwell = maxwell_elast(w, G0, tr)\n",
    "y2_maxwell = maxwell_visc(w, G0, tr)\n",
    "y1_jeffreys = jeffreys_elast2(w, G0_j, tr1_j, tr2_j)\n",
    "y2_jeffreys = jeffreys_visc2(w, G0_j, tr1_j, tr2_j)\n",
    "y1_twomode = two_mode_elast(w, G01_tm, G02_tm, tr1_t, tr2_t)\n",
    "y2_twomode = two_mode_visc(w, G01_tm, G02_tm, tr1_t, tr2_t)"
   ]
  },
  {
   "cell_type": "markdown",
   "metadata": {},
   "source": [
    "## Definição das funções para plotar as curvas"
   ]
  },
  {
   "cell_type": "code",
   "execution_count": 6,
   "metadata": {
    "code_folding": [],
    "collapsed": true
   },
   "outputs": [],
   "source": [
    "# y1_oldroyd = oldroydB_elast(w, G0_o, tr_o)\n",
    "# y2_oldroyd = oldroydB_visc(w, G0_o, tr_o, eta_inf)\n",
    "def plot_oldroyd(ax):\n",
    "    ax.scatter(w, y1_oldroyd)\n",
    "    ax.scatter(w, y2_oldroyd)\n",
    "    ax.set_xscale('log')\n",
    "    ax.set_yscale('log')\n",
    "    ax.set_xlabel('$\\omega/rad.s^{-1}$')\n",
    "    ax.set_ylabel(\"G', G''/Pa\")\n",
    "    ax.set_xlim(min(w), max(w))\n",
    "    ax.set_ylim(min(min(y1_oldroyd), min(y2_oldroyd) / 2),\n",
    "                max(max(y2_oldroyd), max(y1_oldroyd)) * 10)\n",
    "    #fig.legend([\"G'\", \"G''\"])\n",
    "    ax.set_title('Oldroyd-B')\n",
    "    return ax\n",
    "\n",
    "def plot_maxwell(ax):\n",
    "    ax.scatter(w, y1_maxwell)\n",
    "    ax.scatter(w, y2_maxwell)\n",
    "    ax.set_xscale('log')\n",
    "    ax.set_yscale('log')\n",
    "    ax.set_xlabel('$\\omega/rad.s^{-1}$')\n",
    "    ax.set_ylabel(\"G', G''/Pa\")\n",
    "    ax.set_xlim(min(w), max(w))\n",
    "    ax.set_ylim(min(min(y1_maxwell), min(y2_maxwell) / 2),\n",
    "                max(max(y2_maxwell), max(y1_maxwell)) * 10)\n",
    "    #ax.legend([\"G'\", \"G''\"])\n",
    "    ax.set_title('Maxwell')\n",
    "    \n",
    "def plot_jeffreys(ax):\n",
    "    ax.scatter(w, y1_jeffreys)\n",
    "    ax.scatter(w, y2_jeffreys)\n",
    "    ax.set_xscale('log')\n",
    "    ax.set_yscale('log')\n",
    "    ax.set_xlabel('$\\omega/rad.s^{-1}$')\n",
    "    ax.set_ylabel(\"G', G''/Pa\")\n",
    "    ax.set_xlim(min(w), max(w))\n",
    "    ax.set_ylim(min(min(y1_jeffreys), min(y2_jeffreys) / 2),\n",
    "                max(max(y2_jeffreys), max(y1_jeffreys)) * 10)\n",
    "    #ax.legend([\"G'\", \"G''\"])\n",
    "    ax.set_title('Jeffreys')\n",
    "    \n",
    "def plot_twomode(ax):\n",
    "    ax.scatter(w, y1_twomode)\n",
    "    ax.scatter(w, y2_twomode)\n",
    "    ax.set_xscale('log')\n",
    "    ax.set_yscale('log')\n",
    "    ax.set_xlabel('$\\omega/rad.s^{-1}$')\n",
    "    ax.set_ylabel(\"G', G''/Pa\")\n",
    "    ax.set_xlim(min(w), max(w))\n",
    "    ax.set_ylim(min(min(y1_twomode), min(y2_twomode) / 2),\n",
    "                max(max(y2_twomode), max(y1_twomode)) * 10)\n",
    "    #ax.legend([\"G'\", \"G''\"])\n",
    "    ax.set_title('Two Mode')"
   ]
  },
  {
   "cell_type": "markdown",
   "metadata": {},
   "source": [
    "## Plotando as curvas"
   ]
  },
  {
   "cell_type": "code",
   "execution_count": 7,
   "metadata": {},
   "outputs": [
    {
     "data": {
      "image/png": "[encoded data removed]",
      "text/plain": [
       "<matplotlib.figure.Figure at 0x20c7fa9b278>"
      ]
     },
     "metadata": {},
     "output_type": "display_data"
    }
   ],
   "source": [
    "fig, [[ax1, ax2], [ax3, ax4]] = plt.subplots(nrows=2, ncols=2, figsize=(8,8))\n",
    "\n",
    "ax1 = plot_oldroyd(ax1)\n",
    "ax2 = plot_maxwell(ax2)\n",
    "ax3 = plot_jeffreys(ax3)\n",
    "ax4 = plot_twomode(ax4)\n",
    "fig.legend([\"G'\", \"G''\"])\n",
    "fig.tight_layout()"
   ]
  },
  {
   "cell_type": "markdown",
   "metadata": {},
   "source": [
    "## Testes de métodos de ajuste\n",
    "### Utilizando 2 parâmetros no total -- Não é exatamente o que eu desejava."
   ]
  },
  {
   "cell_type": "code",
   "execution_count": 8,
   "metadata": {},
   "outputs": [
    {
     "name": "stdout",
     "output_type": "stream",
     "text": [
      "[[Fit Statistics]]\n",
      "    # function evals   = 24\n",
      "    # data points      = 100\n",
      "    # variables        = 2\n",
      "    chi-square         = 31.718\n",
      "    reduced chi-square = 0.324\n",
      "    Akaike info crit   = -110.830\n",
      "    Bayesian info crit = -105.619\n",
      "[[Variables]]\n",
      "    G0_1:   10.3116478 +/- 0.104618 (1.01%) (init= 10)\n",
      "    G0_2:   10.3116478 +/- 0.104618 (1.01%)  == 'G0_1'\n",
      "    tr_1:   9.92992497 +/- 0.309028 (3.11%) (init= 1)\n",
      "    tr_2:   9.92992497 +/- 0.309028 (3.11%)  == 'tr_1'\n",
      "[[Correlations]] (unreported correlations are <  0.100)\n",
      "    C(G0_1, tr_1)                = -0.326 \n"
     ]
    }
   ],
   "source": [
    "from lmfit import minimize, Minimizer, Parameters, Parameter, report_fit, Model\n",
    "import random\n",
    "\n",
    "def desvio():  # Retorna um valor de (+-) 0 a 20, para %, de erro, para cada ponto\n",
    "    return random.randrange(0, stop=20, step=1) / 100 * random.choice([-1, 1])\n",
    "\n",
    "params = Parameters()\n",
    "params.add('G0_1',          10., vary=True)\n",
    "params.add('G0_2',          10., vary=True, expr='G0_1')\n",
    "params.add('tr_1',          1. , vary=True)\n",
    "params.add('tr_2',          1. , vary=True, expr='tr_1')\n",
    "\n",
    "# expr limita os valores de um dos parâmetros para seguirem uma expressão.\n",
    "# Nesse caso, a expressão é o valor da outra variável\n",
    "\n",
    "aj_G0_1 = 10\n",
    "aj_G0_2 = 10\n",
    "\n",
    "aj_tr_1 = 10\n",
    "aj_tr_2 = 10\n",
    "\n",
    "dataset_x = np.logspace(-2, 1)\n",
    "\n",
    "dataset_elast = maxwell_elast(dataset_x, aj_G0_1, aj_tr_1)\n",
    "dataset_elast = np.array([i * (1 + desvio()) for i in dataset_elast])\n",
    "dataset_visc  = maxwell_visc(dataset_x,  aj_G0_2, aj_tr_2)\n",
    "dataset_visc  = np.array([i * (1 + desvio()) for i in dataset_visc])\n",
    "\n",
    "datasets = [dataset_elast, dataset_visc]\n",
    "\n",
    "def residual(params, x, datasets):\n",
    "    model_elast = maxwell_elast(x, params['G0_1'], params['tr_1'])\n",
    "    model_visc  = maxwell_visc (x, params['G0_2'], params['tr_2'])\n",
    "    \n",
    "    resid1 = datasets[0] - model_elast\n",
    "    resid2 = datasets[1] - model_visc\n",
    "    return np.concatenate((resid1, resid2))\n",
    "\n",
    "fit = minimize( residual, params, args=(dataset_x, datasets) )\n",
    "report_fit(fit)"
   ]
  },
  {
   "cell_type": "code",
   "execution_count": 9,
   "metadata": {
    "code_folding": []
   },
   "outputs": [
    {
     "name": "stdout",
     "output_type": "stream",
     "text": [
      "[[Fit Statistics]]\n",
      "    # function evals   = 24\n",
      "    # data points      = 100\n",
      "    # variables        = 2\n",
      "    chi-square         = 34.177\n",
      "    reduced chi-square = 0.349\n",
      "    Akaike info crit   = -103.361\n",
      "    Bayesian info crit = -98.151\n",
      "[[Variables]]\n",
      "    G0:   10.3497234 +/- 0.108550 (1.05%) (init= 10)\n",
      "    tr:   9.96689409 +/- 0.320791 (3.22%) (init= 1)\n",
      "[[Correlations]] (unreported correlations are <  0.100)\n",
      "    C(G0, tr)                    = -0.326 \n"
     ]
    },
    {
     "data": {
      "image/png": "[encoded data removed]",
      "text/plain": [
       "<matplotlib.figure.Figure at 0x20c03f57f60>"
      ]
     },
     "metadata": {},
     "output_type": "display_data"
    }
   ],
   "source": [
    "from lmfit import minimize, Minimizer, Parameters, Parameter, report_fit, Model\n",
    "import random\n",
    "\n",
    "def desvio():\n",
    "    return random.randrange(0, stop=20, step=1) / 100 * random.choice([-1, 1])\n",
    "\n",
    "# Simplificando os parâmetros, removendo os parâmetros possivelmente supérfluos\n",
    "params = Parameters()\n",
    "params.add('G0',          10., vary=True)\n",
    "params.add('tr',          1. , vary=True)\n",
    "\n",
    "aj_G0 = 10\n",
    "\n",
    "aj_tr = 10\n",
    "\n",
    "dataset_x = np.logspace(-2, 1)\n",
    "\n",
    "dataset_elast = maxwell_elast(dataset_x, aj_G0_1, aj_tr_1)\n",
    "dataset_elast = np.array([i * (1 + desvio()) for i in dataset_elast])\n",
    "dataset_visc  = maxwell_visc(dataset_x,  aj_G0_2, aj_tr_2)\n",
    "dataset_visc  = np.array([i * (1 + desvio()) for i in dataset_visc])\n",
    "\n",
    "datasets = [dataset_elast, dataset_visc]\n",
    "\n",
    "def residual(params, x, datasets):\n",
    "    model_elast = maxwell_elast(x, params['G0'], params['tr'])\n",
    "    model_visc  = maxwell_visc (x, params['G0'], params['tr'])\n",
    "    \n",
    "    resid1 = datasets[0] - model_elast\n",
    "    resid2 = datasets[1] - model_visc\n",
    "    return np.concatenate((resid1, resid2))\n",
    "\n",
    "fit = minimize( residual, params, args=(dataset_x, datasets) )\n",
    "report_fit(fit)\n",
    "\n",
    "G0_fit = fit.params['G0']\n",
    "tr_fit = fit.params['tr']\n",
    "\n",
    "plt.scatter(dataset_x, dataset_elast, label=\"G' dado\")\n",
    "plt.scatter(dataset_x, dataset_visc, label=\"G'' dado\")\n",
    "plt.plot(dataset_x, maxwell_elast(dataset_x, G0_fit, tr_fit), label=\"G' modelo\")\n",
    "plt.plot(dataset_x, maxwell_visc(dataset_x, G0_fit, tr_fit), label=\"G'' modelo\")\n",
    "plt.xscale('log')\n",
    "plt.yscale('log')"
   ]
  },
  {
   "cell_type": "markdown",
   "metadata": {},
   "source": [
    "### Testando se os dois métodos são equivalentes ou não"
   ]
  },
  {
   "cell_type": "code",
   "execution_count": 10,
   "metadata": {},
   "outputs": [
    {
     "name": "stdout",
     "output_type": "stream",
     "text": [
      "[[Fit Statistics]]\n",
      "    # function evals   = 21\n",
      "    # data points      = 100\n",
      "    # variables        = 2\n",
      "    chi-square         = 33.763\n",
      "    reduced chi-square = 0.345\n",
      "    Akaike info crit   = -104.582\n",
      "    Bayesian info crit = -99.371\n",
      "[[Variables]]\n",
      "    G0_1:   9.85282304 +/- 0.107671 (1.09%) (init= 10)\n",
      "    G0_2:   9.85282304 +/- 0.107671 (1.09%)  == 'G0_1'\n",
      "    tr_1:   10.1376459 +/- 0.340623 (3.36%) (init= 1)\n",
      "    tr_2:   10.1376459 +/- 0.340623 (3.36%)  == 'tr_1'\n",
      "[[Correlations]] (unreported correlations are <  0.100)\n",
      "    C(G0_1, tr_1)                = -0.325 \n",
      "[[Fit Statistics]]\n",
      "    # function evals   = 21\n",
      "    # data points      = 100\n",
      "    # variables        = 2\n",
      "    chi-square         = 33.763\n",
      "    reduced chi-square = 0.345\n",
      "    Akaike info crit   = -104.582\n",
      "    Bayesian info crit = -99.371\n",
      "[[Variables]]\n",
      "    G0:   9.85282304 +/- 0.107671 (1.09%) (init= 10)\n",
      "    tr:   10.1376459 +/- 0.340623 (3.36%) (init= 1)\n",
      "[[Correlations]] (unreported correlations are <  0.100)\n",
      "    C(G0, tr)                    = -0.325 \n"
     ]
    }
   ],
   "source": [
    "def desvio():\n",
    "    return random.randrange(0, stop=20, step=1) / 100 * random.choice([-1, 1])\n",
    "\n",
    "params_2 = Parameters()\n",
    "params_2.add('G0_1',          10., vary=True)\n",
    "params_2.add('G0_2',          10., vary=True, expr='G0_1')\n",
    "params_2.add('tr_1',          1. , vary=True)\n",
    "params_2.add('tr_2',          1. , vary=True, expr='tr_1')\n",
    "\n",
    "params_1 = Parameters()\n",
    "params_1.add('G0',          10., vary=True)\n",
    "params_1.add('tr',          1. , vary=True)\n",
    "\n",
    "aj_G0_1 = 10\n",
    "aj_G0_2 = 10\n",
    "\n",
    "aj_tr_1 = 10\n",
    "aj_tr_2 = 10\n",
    "\n",
    "dataset_x = np.logspace(-2, 1)\n",
    "\n",
    "dataset_elast = maxwell_elast(dataset_x, aj_G0_1, aj_tr_1)\n",
    "dataset_elast = np.array([i * (1 + desvio()) for i in dataset_elast])\n",
    "dataset_visc  = maxwell_visc(dataset_x,  aj_G0_2, aj_tr_2)\n",
    "dataset_visc  = np.array([i * (1 + desvio()) for i in dataset_visc])\n",
    "\n",
    "datasets = [dataset_elast, dataset_visc]\n",
    "\n",
    "def residual_2(params_2, x, datasets):\n",
    "    model_elast = maxwell_elast(x, params_2['G0_1'], params_2['tr_1'])\n",
    "    model_visc  = maxwell_visc (x, params_2['G0_2'], params_2['tr_2'])\n",
    "    \n",
    "    resid1 = datasets[0] - model_elast\n",
    "    resid2 = datasets[1] - model_visc\n",
    "    return np.concatenate((resid1, resid2))\n",
    "\n",
    "def residual_1(params_1, x, datasets):\n",
    "    model_elast = maxwell_elast(x, params_1['G0'], params_1['tr'])\n",
    "    model_visc  = maxwell_visc (x, params_1['G0'], params_1['tr'])\n",
    "    \n",
    "    resid1 = datasets[0] - model_elast\n",
    "    resid2 = datasets[1] - model_visc\n",
    "    return np.concatenate((resid1, resid2))\n",
    "\n",
    "fit2 = minimize( residual_2, params_2, args=(dataset_x, datasets) )\n",
    "fit1 = minimize( residual_1, params_1, args=(dataset_x, datasets) )\n",
    "report_fit(fit2)\n",
    "report_fit(fit1)"
   ]
  },
  {
   "cell_type": "markdown",
   "metadata": {},
   "source": [
    "# Testando o método em um dado real"
   ]
  },
  {
   "cell_type": "code",
   "execution_count": 11,
   "metadata": {},
   "outputs": [
    {
     "data": {
      "text/plain": [
       "(0.01068, 524.7)"
      ]
     },
     "execution_count": 11,
     "metadata": {},
     "output_type": "execute_result"
    },
    {
     "data": {
      "image/png": "[encoded data removed]",
      "text/plain": [
       "<matplotlib.figure.Figure at 0x20c04f1c898>"
      ]
     },
     "metadata": {},
     "output_type": "display_data"
    }
   ],
   "source": [
    "dadoreal = pd.read_csv('Agua2OF.csv', delimiter=';', decimal=',')\n",
    "\n",
    "DR_x = np.array(dadoreal['f'])\n",
    "DR_G1 = np.array(dadoreal[\"G'\"])\n",
    "DR_G2 = np.array(dadoreal[\"G''\"])\n",
    "\n",
    "plt.scatter(DR_x, DR_G1)\n",
    "plt.scatter(DR_x, DR_G2)\n",
    "plt.xscale('log')\n",
    "plt.yscale('log')\n",
    "plt.xlim(min(DR_x), max(DR_x))\n",
    "plt.ylim(min(min(DR_G1), min(DR_G2) / 2), max(max(DR_G1), max(DR_G2)) * 10)"
   ]
  },
  {
   "cell_type": "code",
   "execution_count": 12,
   "metadata": {},
   "outputs": [
    {
     "name": "stdout",
     "output_type": "stream",
     "text": [
      "[[Fit Statistics]]\n",
      "    # function evals   = 21\n",
      "    # data points      = 56\n",
      "    # variables        = 2\n",
      "    chi-square         = 472.405\n",
      "    reduced chi-square = 8.748\n",
      "    Akaike info crit   = 123.419\n",
      "    Bayesian info crit = 127.470\n",
      "[[Variables]]\n",
      "    G0:   49.7022102 +/- 0.995138 (2.00%) (init= 10)\n",
      "    tr:   1.38479891 +/- 0.065253 (4.71%) (init= 1)\n",
      "[[Correlations]] (unreported correlations are <  0.100)\n",
      "    C(G0, tr)                    = -0.425 \n"
     ]
    },
    {
     "data": {
      "image/png": "[encoded data removed]",
      "text/plain": [
       "<matplotlib.figure.Figure at 0x20c04e26e80>"
      ]
     },
     "metadata": {},
     "output_type": "display_data"
    }
   ],
   "source": [
    "DR_dataset = [DR_G1, DR_G2]\n",
    "\n",
    "params_real = Parameters()\n",
    "params_real.add('G0', 10., vary=True)\n",
    "params_real.add('tr', 1. , vary=True)\n",
    "\n",
    "def residual_maxwell_real(params, x, datasets):\n",
    "    model_elast = maxwell_elast(x, params['G0'], params['tr'])\n",
    "    model_visc  = maxwell_visc (x, params['G0'], params['tr'])\n",
    "    \n",
    "    resid1 = datasets[0] - model_elast\n",
    "    resid2 = datasets[1] - model_visc\n",
    "    return np.concatenate((resid1, resid2))\n",
    "\n",
    "fit = minimize( residual, params, args=(DR_x, DR_dataset) )\n",
    "report_fit(fit)\n",
    "\n",
    "DR_G0_fit = fit.params['G0']\n",
    "DR_tr_fit = fit.params['tr']\n",
    "\n",
    "plt.scatter(DR_x, DR_G1, label=\"G' dado\")\n",
    "plt.scatter(DR_x, DR_G2, label=\"G'' dado\")\n",
    "plt.plot(DR_x, maxwell_elast(DR_x, DR_G0_fit, DR_tr_fit), label=\"G' modelo\")\n",
    "plt.plot(DR_x, maxwell_visc(DR_x, DR_G0_fit, DR_tr_fit), label=\"G'' modelo\")\n",
    "plt.xscale('log')\n",
    "plt.yscale('log')"
   ]
  },
  {
   "cell_type": "markdown",
   "metadata": {},
   "source": [
    "## todo: Utilizar outros dados e fazer ajustes por outros modelos. Definir funções para fazer os ajustes integrados para todos os modelos"
   ]
  },
  {
   "cell_type": "code",
   "execution_count": 38,
   "metadata": {
    "collapsed": true
   },
   "outputs": [],
   "source": [
    "def ajuste_Maxwell(w, G1, G2, chutes=[10,1]):\n",
    "    \"\"\"chutes: G0, tr\"\"\"\n",
    "    datasets = [G1, G2]\n",
    "    params = Parameters()\n",
    "    params.add('G0', chutes[0], vary=True)\n",
    "    params.add('tr', chutes[1], vary=True)\n",
    "\n",
    "    def residual_maxwell(params, x, datasets):\n",
    "        model_elast = maxwell_elast(x, params['G0'], params['tr'])\n",
    "        model_visc  = maxwell_visc (x, params['G0'], params['tr'])\n",
    "\n",
    "        resid1 = datasets[0] - model_elast\n",
    "        resid2 = datasets[1] - model_visc\n",
    "        return np.concatenate((resid1, resid2))\n",
    "\n",
    "    fit = minimize( residual_maxwell, params, args=(w, datasets) )\n",
    "    return fit\n",
    "\n",
    "\n",
    "def ajuste_Oldroyd(w, G1, G2, chutes=[10,1,2]):\n",
    "    \"\"\"chutes: G0, tr, eta_inf\"\"\"\n",
    "    datasets = [G1, G2]\n",
    "    params = Parameters()\n",
    "    params.add('G0', chutes[0], vary=True)\n",
    "    params.add('tr', chutes[1], vary=True)\n",
    "    params.add('eta_inf', chutes[2], vary=True)\n",
    "    \n",
    "    def residual_oldroyd(params, x, datasets):\n",
    "        old_elast = oldroydB_elast(x, params['G0'], params['tr'])\n",
    "        old_visc  = oldroydB_visc (x, params['G0'], params['tr'], params['eta_inf'])\n",
    "        \n",
    "        resid1 = datasets[0] - old_elast\n",
    "        resid2 = datasets[1] - old_visc\n",
    "        return np.concatenate((resid1, resid2))\n",
    "    \n",
    "    fit = minimize( residual_oldroyd, params, args=(w, datasets))\n",
    "    return fit\n",
    "\n",
    "def ajuste_Jeffreys(w, G1, G2, chutes=[10,1,1]):\n",
    "    \"\"\"chutes: G0, lambda1, lambda2\"\"\"\n",
    "    datasets = [G1, G2]\n",
    "    params = Parameters()\n",
    "    params.add('G0', chutes[0], vary=True)\n",
    "    params.add('lambda1', chutes[1], vary=True)\n",
    "    params.add('lambda2', chutes[2], vary=True)\n",
    "    \n",
    "    def residual_jeffreys(params, x, datasets):\n",
    "        jeff_elast = jeffreys_elast2(x, params['G0'], params['lambda1'], params['lambda2'])\n",
    "        jeff_visc  = jeffreys_visc2 (x, params['G0'], params['lambda1'], params['lambda2'])\n",
    "        \n",
    "        resid1 = datasets[0] - jeff_elast\n",
    "        resid2 = datasets[1] - jeff_visc\n",
    "        return np.concatenate((resid1, resid2))\n",
    "    \n",
    "    fit = minimize( residual_jeffreys, params, args=(w, datasets))\n",
    "    return fit\n",
    "\n",
    "\n",
    "def ajuste_two_mode(w, G1, G2, chutes=[10,10,1,1]):\n",
    "    \"\"\"chutes: G0_1, G0_2, lambda1, lambda2\"\"\"\n",
    "    datasets = [G1, G2]\n",
    "    params = Parameters()\n",
    "    params.add('G0_1', chutes[0], vary=True)\n",
    "    params.add('G0_2', chutes[0], vary=True)\n",
    "    params.add('lambda1', chutes[1], vary=True)\n",
    "    params.add('lambda2', chutes[2], vary=True)\n",
    "    \n",
    "    def residual_two_mode(params, x, datasets):\n",
    "        tm_elast = two_mode_elast(x, params['G0_1'], params['G0_2'], params['lambda1'], params['lambda2'])\n",
    "        tm_visc  = two_mode_visc (x, params['G0_1'], params['G0_2'], params['lambda1'], params['lambda2'])\n",
    "        \n",
    "        resid1 = datasets[0] - tm_elast\n",
    "        resid2 = datasets[1] - tm_visc\n",
    "        return np.concatenate((resid1, resid2))\n",
    "    \n",
    "    fit = minimize( residual_two_mode, params, args=(w, datasets))\n",
    "    return fit\n",
    "\n",
    "#report_fit(ajuste_Maxwell(DR_x, DR_dataset[0], DR_dataset[1]))\n",
    "#report_fit()\n",
    "fit_max = ajuste_Maxwell(DR_x, DR_dataset[0], DR_dataset[1])\n",
    "fit_oldroyd = ajuste_Oldroyd(DR_x, DR_dataset[0], DR_dataset[1])\n",
    "fit_jeffreys = ajuste_Jeffreys(DR_x, DR_dataset[0], DR_dataset[1])\n",
    "fit_two_mode = ajuste_two_mode(DR_x, DR_dataset[0], DR_dataset[1])"
   ]
  },
  {
   "cell_type": "code",
   "execution_count": 49,
   "metadata": {
    "collapsed": true
   },
   "outputs": [],
   "source": [
    "from uncertainties import ufloat\n",
    "# Maxwell\n",
    "u_G0_max = ufloat(fit_max.params['G0'].value, fit_max.params['G0'].stderr)\n",
    "u_tr_max = ufloat(fit_max.params['tr'].value, fit_max.params['tr'].stderr)\n",
    "# Oldroyd\n",
    "u_G0_old = ufloat(fit_oldroyd.params['G0'].value, fit_oldroyd.params['G0'].stderr)\n",
    "u_tr_old = ufloat(fit_oldroyd.params['tr'].value, fit_oldroyd.params['tr'].stderr)\n",
    "u_eta_inf_old = ufloat(fit_oldroyd.params['eta_inf'].value, fit_oldroyd.params['eta_inf'].stderr)\n",
    "# Jeffreys\n",
    "u_G0_jeff = ufloat(fit_jeffreys.params['G0'].value, fit_oldroyd.params['G0'].stderr)\n",
    "u_tr1_jeff = ufloat(fit_jeffreys.params['lambda1'].value, fit_jeffreys.params['lambda1'].stderr)\n",
    "u_tr2_jeff = ufloat(fit_jeffreys.params['lambda2'].value, fit_jeffreys.params['lambda2'].stderr)\n",
    "# Two mode\n",
    "u_G01_TM = ufloat(fit_two_mode.params['G0_1'].value, fit_two_mode.params['G0_1'].stderr)\n",
    "u_G02_TM = ufloat(fit_two_mode.params['G0_2'].value, fit_two_mode.params['G0_2'].stderr)\n",
    "u_tr1_TM = ufloat(fit_two_mode.params['lambda1'].value, fit_two_mode.params['lambda1'].stderr)\n",
    "u_tr2_TM = ufloat(fit_two_mode.params['lambda2'].value, fit_two_mode.params['lambda2'].stderr)"
   ]
  },
  {
   "cell_type": "code",
   "execution_count": 51,
   "metadata": {
    "collapsed": true
   },
   "outputs": [],
   "source": [
    "y_max_aj_G1 = maxwell_elast(DR_x, u_G0_max, u_tr_max)\n",
    "y_max_aj_G2 = maxwell_visc(DR_x, u_G0_max, u_tr_max)\n",
    "\n",
    "y_old_aj_G1 = oldroydB_elast(DR_x, u_G0_old, u_tr_old)\n",
    "y_old_aj_G2 = oldroydB_visc(DR_x, u_G0_old, u_tr_old, u_eta_inf_old)\n",
    "\n",
    "y_jef_aj_G1 = jeffreys_elast2(DR_x, u_G0_jeff, u_tr1_jeff, u_tr2_jeff)\n",
    "y_jef_aj_G2 = jeffreys_visc2(DR_x, u_G0_jeff, u_tr1_jeff, u_tr2_jeff)\n",
    "\n",
    "y_TM_aj_G1 = two_mode_elast(DR_x, u_G01_TM, u_G02_TM, u_tr1_TM, u_tr2_TM)\n",
    "y_TM_aj_G2 = two_mode_visc(DR_x, u_G01_TM, u_G02_TM, u_tr1_TM, u_tr2_TM)"
   ]
  },
  {
   "cell_type": "code",
   "execution_count": 57,
   "metadata": {},
   "outputs": [
    {
     "data": {
      "text/plain": [
       "<matplotlib.legend.Legend at 0x20c082834a8>"
      ]
     },
     "execution_count": 57,
     "metadata": {},
     "output_type": "execute_result"
    },
    {
     "data": {
      "image/png": "[encoded data removed]",
      "text/plain": [
       "<matplotlib.figure.Figure at 0x20c081ada20>"
      ]
     },
     "metadata": {},
     "output_type": "display_data"
    }
   ],
   "source": [
    "fig, [[ax1, ax2],[ax3, ax4]] = plt.subplots(ncols=2, nrows=2, figsize=(8,6))\n",
    "\n",
    "# Maxwell\n",
    "ax1.errorbar(DR_x, [a.nominal_value for a in y_max_aj_G1], yerr=[a.std_dev for a in y_max_aj_G1], label=\"G' ajuste\", \n",
    "             color='red', ecolor='red', capsize=5)\n",
    "ax1.errorbar(DR_x, [a.nominal_value for a in y_max_aj_G2], yerr=[a.std_dev for a in y_max_aj_G2], label=\"G'' ajuste\", capsize=5)\n",
    "ax1.scatter(DR_x, DR_G1, label=\"G' real\", c='red')\n",
    "ax1.scatter(DR_x, DR_G2, label=\"G'' real\")\n",
    "ax1.set_xscale('log')\n",
    "ax1.set_yscale('log')\n",
    "ax1.set_title('Maxwell')\n",
    "\n",
    "# Oldroyd\n",
    "ax2.errorbar(DR_x, [a.nominal_value for a in y_old_aj_G1], yerr=[a.std_dev for a in y_old_aj_G1], label=\"G' ajuste\", \n",
    "             color='red', ecolor='red', capsize=5)\n",
    "ax2.errorbar(DR_x, [a.nominal_value for a in y_old_aj_G2], yerr=[a.std_dev for a in y_old_aj_G2], label=\"G'' ajuste\", capsize=5)\n",
    "ax2.scatter(DR_x, DR_G1, label=\"G' real\", c='red')\n",
    "ax2.scatter(DR_x, DR_G2, label=\"G'' real\")\n",
    "ax2.set_xscale('log')\n",
    "ax2.set_yscale('log')\n",
    "ax2.set_title('Oldroyd')\n",
    "\n",
    "# Jeffreys\n",
    "ax3.errorbar(DR_x, [a.nominal_value for a in y_jef_aj_G1], yerr=[a.std_dev for a in y_jef_aj_G1], label=\"G' ajuste\", \n",
    "             color='red', ecolor='red', capsize=5)\n",
    "ax3.errorbar(DR_x, [a.nominal_value for a in y_jef_aj_G2], yerr=[a.std_dev for a in y_jef_aj_G2], label=\"G'' ajuste\", capsize=5)\n",
    "ax3.scatter(DR_x, DR_G1, label=\"G' real\", c='red')\n",
    "ax3.scatter(DR_x, DR_G2, label=\"G'' real\")\n",
    "ax3.set_xscale('log')\n",
    "ax3.set_yscale('log')\n",
    "ax3.set_title('Jeffreys')\n",
    "\n",
    "# Two Mode\n",
    "ax4.errorbar(DR_x, [a.nominal_value for a in y_TM_aj_G1], yerr=[a.std_dev for a in y_TM_aj_G1], label=\"G' ajuste\", \n",
    "             color='red', ecolor='red', capsize=5)\n",
    "ax4.errorbar(DR_x, [a.nominal_value for a in y_TM_aj_G2], yerr=[a.std_dev for a in y_TM_aj_G2], label=\"G'' ajuste\", capsize=5)\n",
    "ax4.scatter(DR_x, DR_G1, label=\"G' real\", c='red')\n",
    "ax4.scatter(DR_x, DR_G2, label=\"G'' real\")\n",
    "ax4.set_xscale('log')\n",
    "ax4.set_yscale('log')\n",
    "ax4.set_title('Two mode')\n",
    "\n",
    "fig.tight_layout()\n",
    "fig.legend([\"G' real\", \"G'' real\", \"G' ajuste\", \"G'' ajuste\"])"
   ]
  }
 ],
 "metadata": {
  "kernelspec": {
   "display_name": "Python 3",
   "language": "python",
   "name": "python3"
  },
  "language_info": {
   "codemirror_mode": {
    "name": "ipython",
    "version": 3
   },
   "file_extension": ".py",
   "mimetype": "text/x-python",
   "name": "python",
   "nbconvert_exporter": "python",
   "pygments_lexer": "ipython3",
   "version": "3.6.1"
  },
  "varInspector": {
   "cols": {
    "lenName": 16,
    "lenType": 16,
    "lenVar": 40
   },
   "kernels_config": {
    "python": {
     "delete_cmd_postfix": "",
     "delete_cmd_prefix": "del ",
     "library": "var_list.py",
     "varRefreshCmd": "print(var_dic_list())"
    },
    "r": {
     "delete_cmd_postfix": ") ",
     "delete_cmd_prefix": "rm(",
     "library": "var_list.r",
     "varRefreshCmd": "cat(var_dic_list()) "
    }
   },
   "position": {
    "height": "144px",
    "left": "995px",
    "right": "20px",
    "top": "122px",
    "width": "350px"
   },
   "types_to_exclude": [
    "module",
    "function",
    "builtin_function_or_method",
    "instance",
    "_Feature"
   ],
   "window_display": false
  }
 },
 "nbformat": 4,
 "nbformat_minor": 2
}
